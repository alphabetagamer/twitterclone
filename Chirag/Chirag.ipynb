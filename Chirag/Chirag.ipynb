{
 "cells": [
  {
   "cell_type": "code",
   "execution_count": 6,
   "metadata": {},
   "outputs": [],
   "source": [
    "import mysql.connector\n",
    "\n",
    "cnx = mysql.connector.connect(user='lokin', password='root',\n",
    "                              host='localhost',port=\"6800\")\n"
   ]
  },
  {
   "cell_type": "code",
   "execution_count": null,
   "metadata": {},
   "outputs": [
    {
     "name": "stdout",
     "output_type": "stream",
     "text": [
      " * Serving Flask app \"__main__\" (lazy loading)\n",
      " * Environment: production\n",
      "   WARNING: Do not use the development server in a production environment.\n",
      "   Use a production WSGI server instead.\n",
      " * Debug mode: off\n"
     ]
    },
    {
     "name": "stderr",
     "output_type": "stream",
     "text": [
      " * Running on http://localhost:8088/ (Press CTRL+C to quit)\n",
      "127.0.0.1 - - [02/Sep/2019 17:17:20] \"\u001b[33mGET / HTTP/1.1\u001b[0m\" 404 -\n",
      "127.0.0.1 - - [02/Sep/2019 17:17:43] \"\u001b[33mGET / HTTP/1.1\u001b[0m\" 404 -\n",
      "127.0.0.1 - - [02/Sep/2019 17:17:47] \"\u001b[37mGET /login HTTP/1.1\u001b[0m\" 200 -\n",
      "127.0.0.1 - - [02/Sep/2019 17:17:47] \"\u001b[33mGET /static/bootstrap.min.css HTTP/1.1\u001b[0m\" 404 -\n",
      "[2019-09-02 17:17:59,051] ERROR in app: Exception on /login [POST]\n",
      "Traceback (most recent call last):\n",
      "  File \"C:\\Anaconda3\\lib\\site-packages\\flask\\app.py\", line 2292, in wsgi_app\n",
      "    response = self.full_dispatch_request()\n",
      "  File \"C:\\Anaconda3\\lib\\site-packages\\flask\\app.py\", line 1815, in full_dispatch_request\n",
      "    rv = self.handle_user_exception(e)\n",
      "  File \"C:\\Anaconda3\\lib\\site-packages\\flask\\app.py\", line 1718, in handle_user_exception\n",
      "    reraise(exc_type, exc_value, tb)\n",
      "  File \"C:\\Anaconda3\\lib\\site-packages\\flask\\_compat.py\", line 35, in reraise\n",
      "    raise value\n",
      "  File \"C:\\Anaconda3\\lib\\site-packages\\flask\\app.py\", line 1813, in full_dispatch_request\n",
      "    rv = self.dispatch_request()\n",
      "  File \"C:\\Anaconda3\\lib\\site-packages\\flask\\app.py\", line 1799, in dispatch_request\n",
      "    return self.view_functions[rule.endpoint](**req.view_args)\n",
      "  File \"<ipython-input-5-76a31fc8ee55>\", line 12, in login\n",
      "    return redirect(url_for('home'))\n",
      "  File \"C:\\Anaconda3\\lib\\site-packages\\flask\\helpers.py\", line 356, in url_for\n",
      "    return appctx.app.handle_url_build_error(error, endpoint, values)\n",
      "  File \"C:\\Anaconda3\\lib\\site-packages\\flask\\app.py\", line 2061, in handle_url_build_error\n",
      "    reraise(exc_type, exc_value, tb)\n",
      "  File \"C:\\Anaconda3\\lib\\site-packages\\flask\\_compat.py\", line 35, in reraise\n",
      "    raise value\n",
      "  File \"C:\\Anaconda3\\lib\\site-packages\\flask\\helpers.py\", line 345, in url_for\n",
      "    force_external=external)\n",
      "  File \"C:\\Anaconda3\\lib\\site-packages\\werkzeug\\routing.py\", line 1776, in build\n",
      "    raise BuildError(endpoint, values, method, self)\n",
      "werkzeug.routing.BuildError: Could not build url for endpoint 'home'. Did you mean 'login' instead?\n",
      "127.0.0.1 - - [02/Sep/2019 17:17:59] \"\u001b[1m\u001b[35mPOST /login HTTP/1.1\u001b[0m\" 500 -\n"
     ]
    }
   ],
   "source": [
    "from flask import Flask, render_template, redirect, url_for, request\n",
    "\n",
    "app = Flask(__name__)\n",
    "\n",
    "@app.route('/login', methods=['GET', 'POST'])\n",
    "def login():\n",
    "    error = None\n",
    "    if request.method == 'POST':\n",
    "        if request.form['username'] != 'admin' or request.form['password'] != 'admin':\n",
    "            error = 'Invalid Credentials. Please try again.'\n",
    "        else:\n",
    "            return redirect(url_for('home'))\n",
    "    return render_template('login.html', error=error)\n",
    "\n",
    "if __name__ == '__main__':\n",
    "    app.run(host=\"localhost\",port=\"8088\")"
   ]
  },
  {
   "cell_type": "code",
   "execution_count": 10,
   "metadata": {},
   "outputs": [],
   "source": []
  },
  {
   "cell_type": "code",
   "execution_count": 9,
   "metadata": {},
   "outputs": [
    {
     "data": {
      "text/plain": [
       "<mysql.connector.connection_cext.CMySQLConnection at 0x227591855f8>"
      ]
     },
     "execution_count": 9,
     "metadata": {},
     "output_type": "execute_result"
    }
   ],
   "source": []
  },
  {
   "cell_type": "code",
   "execution_count": null,
   "metadata": {},
   "outputs": [],
   "source": []
  }
 ],
 "metadata": {
  "kernelspec": {
   "display_name": "Python 3",
   "language": "python",
   "name": "python3"
  },
  "language_info": {
   "codemirror_mode": {
    "name": "ipython",
    "version": 3
   },
   "file_extension": ".py",
   "mimetype": "text/x-python",
   "name": "python",
   "nbconvert_exporter": "python",
   "pygments_lexer": "ipython3",
   "version": "3.7.3"
  }
 },
 "nbformat": 4,
 "nbformat_minor": 2
}
